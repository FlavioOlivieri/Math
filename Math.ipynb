{
 "cells": [
  {
   "cell_type": "code",
   "execution_count": 37,
   "id": "suspended-newport",
   "metadata": {},
   "outputs": [],
   "source": [
    "from sympy import *\n",
    "from sympy.abc import *\n",
    "import numpy as np\n",
    "import sympy as sy\n",
    "import matplotlib.pyplot as plt\n",
    "import math\n",
    "init_printing()  #serve a mostrare in output la funzione"
   ]
  },
  {
   "cell_type": "code",
   "execution_count": 38,
   "id": "touched-revelation",
   "metadata": {},
   "outputs": [
    {
     "data": {
      "image/png": "[encoded data removed]",
      "text/latex": [
       "$\\displaystyle x^{3}$"
      ],
      "text/plain": [
       " 3\n",
       "x "
      ]
     },
     "execution_count": 38,
     "metadata": {},
     "output_type": "execute_result"
    }
   ],
   "source": [
    "f = x*x* #determinazione della funzione\n",
    "f #output della funzione a schermo"
   ]
  },
  {
   "cell_type": "code",
   "execution_count": 39,
   "id": "supreme-stadium",
   "metadata": {},
   "outputs": [
    {
     "data": {
      "image/png": "[encoded data removed]",
      "text/plain": [
       "<Figure size 432x288 with 1 Axes>"
      ]
     },
     "metadata": {
      "needs_background": "light"
     },
     "output_type": "display_data"
    },
    {
     "data": {
      "text/plain": [
       "<sympy.plotting.plot.Plot at 0x255fb0fadc0>"
      ]
     },
     "execution_count": 39,
     "metadata": {},
     "output_type": "execute_result"
    }
   ],
   "source": [
    "plot(f) #output del grafico della funzione a schermo"
   ]
  },
  {
   "cell_type": "code",
   "execution_count": 40,
   "id": "operating-newsletter",
   "metadata": {
    "scrolled": true
   },
   "outputs": [
    {
     "name": "stdout",
     "output_type": "stream",
     "text": [
      "Cosa vorresti far fare a Math? (Suggerimento: 1.limite 2.derivata 3.integrale indefinito 4.integrale definito):4\n",
      "Inserisci la variabile per fare l'integrale: x\n",
      "Inserisci il valore di partenza per l'integrale: -1\n",
      "Inserisci il valore di arrivo per l'integrale: 1\n",
      "Il risultato e': \n",
      "1/4\n"
     ]
    },
    {
     "data": {
      "image/png": "[encoded data removed]",
      "text/plain": [
       "<Figure size 432x288 with 1 Axes>"
      ]
     },
     "metadata": {
      "needs_background": "light"
     },
     "output_type": "display_data"
    }
   ],
   "source": [
    "scelta = input(\"Cosa vorresti far fare a Math? (Suggerimento: 1.limite 2.derivata 3.integrale indefinito 4.integrale definito):\")\n",
    "scelta = int(scelta)\n",
    "\n",
    "if scelta == 1:\n",
    "    segno = \"\"\n",
    "    num = input(\"Inserisci il numero per fare il limite (se vuoi fare il lim per infinito, meno infinito o pigreco inserisci questi ultimi): \")\n",
    "    if num == 'infinito':\n",
    "        var = input(\"Inserisci la variabile per fare il limite: \")\n",
    "        li = Limit(f,var,sy.oo,segno) #sy.oo è il simbolo che sta per l'infinito\n",
    "        li.doit() #esegue il limite\n",
    "        print(\"Il risultato e': \")\n",
    "        print(li.doit()) \n",
    "        \n",
    "    elif num == 'meno infinito':\n",
    "        var = input(\"Inserisci la variabile per fare il limite: \")\n",
    "        li = Limit(f,var,-sy.oo,segno) #sy.oo è il simbolo che sta per meno infinito\n",
    "        li.doit()\n",
    "        print(\"Il risultato e': \")\n",
    "        print(li.doit())\n",
    "        \n",
    "    elif num == 'pigreco':\n",
    "        num = input(\"Inserisci il fratto: \")\n",
    "        num = int(num)\n",
    "        var = input(\"Inserisci la variabile per fare il limite: \")\n",
    "        segno = input(\"Inserisci il segno per fare il limite: \")\n",
    "        li = Limit(f,var,math.pi/num,segno) #math.pi è il pigreco\n",
    "        li.doit()\n",
    "        print(\"Il risultato e': \")\n",
    "        print(li.doit())\n",
    "        \n",
    "    elif (num != \"infinito\" and num != \"meno infinito\"):\n",
    "        var = input(\"Inserisci la variabile per fare il limite: \")\n",
    "        segno = input(\"Inserisci il segno per fare il limite: \")\n",
    "        li = Limit(f,var,num,segno)\n",
    "        li.doit()\n",
    "        print(\"Il risultato e': \")\n",
    "        print(li.doit())\n",
    "        \n",
    "elif scelta == 2:\n",
    "    var = input(\"Inserisci la variabile per fare la derivata: \")\n",
    "    d = f.diff(var) #esegue la derivata\n",
    "    plot(d) #grafico della derivata\n",
    "    print(\"Il risultato e': \")\n",
    "    print(d) #stampa del valore della derivata\n",
    "    \n",
    "elif scelta == 3:\n",
    "    g = integrate(f) #esegue l'integrale indefinito\n",
    "    plot(g) #grafico dell'integrale indefinito\n",
    "    print(\"Il risultato e': \")\n",
    "    print(g) #stampa dell'integrale\n",
    "    \n",
    "elif scelta == 4:\n",
    "    var = input(\"Inserisci la variabile per fare l'integrale: \")\n",
    "    integral_func = integrate(f, [var, 0, 1]) #esegue l'integrale definito\n",
    "    a = input(\"Inserisci il valore di partenza per l'integrale: \")\n",
    "    a = int(a) \n",
    "    b = input(\"Inserisci il valore di arrivo per l'integrale: \")\n",
    "    b = int(b)\n",
    "    a_graph = a-2 #coordinata dalla quale il grafico deve partire\n",
    "    b_graph = b+2 #coordinata alla quale il grafico deve arrivare\n",
    "    x = np.linspace(a_graph,b_graph) #determino la porzione di grafico che voglio visualizzare\n",
    "    def f(var) : return np.sin(x) #determino la funzione (cambiare a mano, se è una funzione semplice (es.x**2), togliere np., altrimenti lasciare)\n",
    "    plt.plot(x,f(var)) #grafico dell'integrale\n",
    "    plt.axhline(color='black') #colore della linea del grafico\n",
    "    plt.fill_between(x,f(var), where = [(x>a) and (x<b) for x in x], color='blue', alpha=0.3) #evidenzia l'area, le mette il colore blu e la schiarisce\n",
    "    print(\"Il risultato e': \")\n",
    "    print(integral_func) #stampa dell'integrale definito\n",
    "else:\n",
    "    print(\"Math non può ancora fare questa cosa, sicuramente in un futuro potrà farlo! Stay tuned :)\")"
   ]
  },
  {
   "cell_type": "code",
   "execution_count": null,
   "id": "homeless-constitutional",
   "metadata": {},
   "outputs": [],
   "source": []
  }
 ],
 "metadata": {
  "kernelspec": {
   "display_name": "Python 3",
   "language": "python",
   "name": "python3"
  },
  "language_info": {
   "codemirror_mode": {
    "name": "ipython",
    "version": 3
   },
   "file_extension": ".py",
   "mimetype": "text/x-python",
   "name": "python",
   "nbconvert_exporter": "python",
   "pygments_lexer": "ipython3",
   "version": "3.8.2"
  }
 },
 "nbformat": 4,
 "nbformat_minor": 5
}
